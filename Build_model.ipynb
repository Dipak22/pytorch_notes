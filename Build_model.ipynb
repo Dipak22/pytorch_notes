{
 "cells": [
  {
   "cell_type": "code",
   "execution_count": 1,
   "id": "572c428c-9f02-4dc2-aa91-c665840ccda2",
   "metadata": {},
   "outputs": [],
   "source": [
    "import os\n",
    "import torch\n",
    "from torch import nn\n",
    "from torch.utils.data import DataLoader\n",
    "from torchvision import datasets, transforms"
   ]
  },
  {
   "cell_type": "code",
   "execution_count": 2,
   "id": "10ae149d-2188-40f4-aff2-66abc0e9e74a",
   "metadata": {},
   "outputs": [
    {
     "name": "stdout",
     "output_type": "stream",
     "text": [
      "Using cuda device\n"
     ]
    }
   ],
   "source": [
    "device = (\n",
    "    \"cuda\"\n",
    "    if torch.cuda.is_available()\n",
    "    else \"mps\"\n",
    "    if torch.backends.mps.is_available()\n",
    "    else \"cpu\"\n",
    ")\n",
    "print(f\"Using {device} device\")"
   ]
  },
  {
   "cell_type": "code",
   "execution_count": 3,
   "id": "24dd9805-f7ae-4e40-b3ba-cfbe607dc039",
   "metadata": {},
   "outputs": [],
   "source": [
    "class NeuralNetwork(nn.Module):\n",
    "    def __init__(self):\n",
    "        super().__init__()\n",
    "        self.flatten = nn.Flatten()\n",
    "        self.linear_relu_stack = nn.Sequential(\n",
    "            nn.Linear(28*28, 512),\n",
    "            nn.ReLU(),\n",
    "            nn.Linear(512,512),\n",
    "            nn.ReLU(),\n",
    "            nn.Linear(512,10),\n",
    "        )\n",
    "    def forward(self,x):\n",
    "        x = self.flatten(x)\n",
    "        logits = self.linear_relu_stack(x)\n",
    "        return logits"
   ]
  },
  {
   "cell_type": "code",
   "execution_count": 4,
   "id": "443ee615-4f23-477e-a9fd-aba9582a1e61",
   "metadata": {},
   "outputs": [
    {
     "name": "stdout",
     "output_type": "stream",
     "text": [
      "NeuralNetwork(\n",
      "  (flatten): Flatten(start_dim=1, end_dim=-1)\n",
      "  (linear_relu_stack): Sequential(\n",
      "    (0): Linear(in_features=784, out_features=512, bias=True)\n",
      "    (1): ReLU()\n",
      "    (2): Linear(in_features=512, out_features=512, bias=True)\n",
      "    (3): ReLU()\n",
      "    (4): Linear(in_features=512, out_features=10, bias=True)\n",
      "  )\n",
      ")\n"
     ]
    }
   ],
   "source": [
    "model = NeuralNetwork().to(device)\n",
    "print(model)"
   ]
  },
  {
   "cell_type": "code",
   "execution_count": 5,
   "id": "e7136aeb-bd48-46ec-b946-147df2c56690",
   "metadata": {},
   "outputs": [
    {
     "data": {
      "text/plain": [
       "tensor([[-0.0361,  0.0953,  0.0263, -0.0426,  0.0713,  0.0991,  0.0623, -0.0437,\n",
       "         -0.0719,  0.0313]], device='cuda:0', grad_fn=<AddmmBackward0>)"
      ]
     },
     "execution_count": 5,
     "metadata": {},
     "output_type": "execute_result"
    }
   ],
   "source": [
    "X = torch.rand(1,28,28, device= device)\n",
    "logits = model(X)\n",
    "logits"
   ]
  },
  {
   "cell_type": "code",
   "execution_count": 6,
   "id": "393018ef-47b5-42be-8273-95f87fabb80b",
   "metadata": {},
   "outputs": [
    {
     "data": {
      "text/plain": [
       "torch.Size([1, 10])"
      ]
     },
     "execution_count": 6,
     "metadata": {},
     "output_type": "execute_result"
    }
   ],
   "source": [
    "logits.shape"
   ]
  },
  {
   "cell_type": "code",
   "execution_count": 9,
   "id": "992eb0f1-0ece-40b7-b747-ecd197d27a32",
   "metadata": {},
   "outputs": [
    {
     "data": {
      "text/plain": [
       "tensor([[0.0945, 0.1077, 0.1005, 0.0938, 0.1052, 0.1081, 0.1042, 0.0937, 0.0911,\n",
       "         0.1010]], device='cuda:0', grad_fn=<SoftmaxBackward0>)"
      ]
     },
     "execution_count": 9,
     "metadata": {},
     "output_type": "execute_result"
    }
   ],
   "source": [
    "pred_probab = nn.Softmax(dim=1)(logits)\n",
    "pred_probab"
   ]
  },
  {
   "cell_type": "code",
   "execution_count": 14,
   "id": "11ba04b7-93fe-4d16-b440-739d2ea70e1f",
   "metadata": {},
   "outputs": [
    {
     "data": {
      "text/plain": [
       "tensor([5], device='cuda:0')"
      ]
     },
     "execution_count": 14,
     "metadata": {},
     "output_type": "execute_result"
    }
   ],
   "source": [
    "y_pred = pred_probab.argmax(1)\n",
    "y_pred"
   ]
  },
  {
   "cell_type": "code",
   "execution_count": 15,
   "id": "fd12fcec-919f-455f-9acd-2176e118d580",
   "metadata": {},
   "outputs": [],
   "source": [
    "#Model layers"
   ]
  },
  {
   "cell_type": "code",
   "execution_count": 21,
   "id": "0864e5e4-37be-41da-8325-26c694f12a84",
   "metadata": {},
   "outputs": [
    {
     "data": {
      "text/plain": [
       "(tensor([[[0.5630, 0.8198, 0.9073,  ..., 0.6414, 0.1240, 0.2174],\n",
       "          [0.3765, 0.0208, 0.2588,  ..., 0.7522, 0.0853, 0.8802],\n",
       "          [0.7448, 0.7512, 0.8299,  ..., 0.1951, 0.5421, 0.9208],\n",
       "          ...,\n",
       "          [0.7374, 0.0806, 0.8148,  ..., 0.5743, 0.6956, 0.3558],\n",
       "          [0.1547, 0.1559, 0.2966,  ..., 0.9012, 0.8821, 0.4616],\n",
       "          [0.5801, 0.8329, 0.8312,  ..., 0.9971, 0.7949, 0.5000]],\n",
       " \n",
       "         [[0.7294, 0.4325, 0.1240,  ..., 0.8375, 0.2004, 0.3430],\n",
       "          [0.7431, 0.3354, 0.5874,  ..., 0.9683, 0.1034, 0.0388],\n",
       "          [0.1005, 0.5159, 0.6566,  ..., 0.9845, 0.9911, 0.3242],\n",
       "          ...,\n",
       "          [0.8680, 0.7550, 0.8398,  ..., 0.2784, 0.1457, 0.4207],\n",
       "          [0.1418, 0.7858, 0.6439,  ..., 0.7723, 0.4803, 0.4035],\n",
       "          [0.9709, 0.0960, 0.5466,  ..., 0.2018, 0.6717, 0.7489]],\n",
       " \n",
       "         [[0.2750, 0.5491, 0.5737,  ..., 0.7552, 0.5674, 0.9555],\n",
       "          [0.7860, 0.3282, 0.2888,  ..., 0.3503, 0.7162, 0.9761],\n",
       "          [0.0231, 0.6836, 0.7094,  ..., 0.8300, 0.4242, 0.2247],\n",
       "          ...,\n",
       "          [0.0600, 0.7185, 0.8871,  ..., 0.4036, 0.9882, 0.3908],\n",
       "          [0.6860, 0.0845, 0.9291,  ..., 0.6580, 0.3109, 0.3038],\n",
       "          [0.8176, 0.7077, 0.0687,  ..., 0.0397, 0.4197, 0.3737]]]),\n",
       " torch.Size([3, 28, 28]))"
      ]
     },
     "execution_count": 21,
     "metadata": {},
     "output_type": "execute_result"
    }
   ],
   "source": [
    "input_image = torch.rand(3,28,28)\n",
    "input_image, input_image.shape"
   ]
  },
  {
   "cell_type": "code",
   "execution_count": 22,
   "id": "7d3c44b8-7486-4d28-94f6-0f34ed748d87",
   "metadata": {},
   "outputs": [
    {
     "data": {
      "text/plain": [
       "(tensor([[0.5630, 0.8198, 0.9073,  ..., 0.9971, 0.7949, 0.5000],\n",
       "         [0.7294, 0.4325, 0.1240,  ..., 0.2018, 0.6717, 0.7489],\n",
       "         [0.2750, 0.5491, 0.5737,  ..., 0.0397, 0.4197, 0.3737]]),\n",
       " torch.Size([3, 784]))"
      ]
     },
     "execution_count": 22,
     "metadata": {},
     "output_type": "execute_result"
    }
   ],
   "source": [
    "flatten = nn.Flatten()\n",
    "flat_image = flatten(input_image)\n",
    "flat_image, flat_image.shape"
   ]
  },
  {
   "cell_type": "code",
   "execution_count": 28,
   "id": "3bf390af-7bf7-4e7b-9a26-a2ba60904722",
   "metadata": {},
   "outputs": [
    {
     "data": {
      "text/plain": [
       "(tensor([[ 0.5468, -0.1186,  0.0274,  0.2584, -0.1175, -0.0012,  0.1755, -0.2618,\n",
       "          -0.3716, -0.4418,  0.0825,  0.6282,  0.5345, -0.2590,  0.6252, -0.0263,\n",
       "           0.6365,  0.5201, -0.1029,  0.1213],\n",
       "         [ 0.4532,  0.2686, -0.3085,  0.5251,  0.2064,  0.2917,  0.4025,  0.0355,\n",
       "          -0.3103, -0.3376,  0.0282,  0.4535,  0.3486,  0.3498,  0.5596,  0.1356,\n",
       "           0.5259,  0.5987,  0.2027, -0.0675],\n",
       "         [ 0.0500, -0.2093, -0.2276,  0.0787,  0.0162,  0.3636,  0.2403, -0.4670,\n",
       "          -0.2788, -0.5375,  0.0479,  0.2528,  0.5486,  0.0649,  0.7061,  0.0588,\n",
       "           0.4527,  0.4405,  0.5737, -0.1102]], grad_fn=<AddmmBackward0>),\n",
       " torch.Size([3, 20]))"
      ]
     },
     "execution_count": 28,
     "metadata": {},
     "output_type": "execute_result"
    }
   ],
   "source": [
    "layer1 = nn.Linear(in_features=28*28, out_features=20)\n",
    "hidden1 = layer1(flat_image)\n",
    "hidden1, hidden1.shape"
   ]
  },
  {
   "cell_type": "code",
   "execution_count": 29,
   "id": "63079173-6692-46ef-bf29-42e29fc4acd3",
   "metadata": {},
   "outputs": [],
   "source": [
    "hidden1 = nn.ReLU()(hidden1)\n"
   ]
  },
  {
   "cell_type": "code",
   "execution_count": 33,
   "id": "cb1ad03e-426a-4449-b644-5b5cc6785a9a",
   "metadata": {},
   "outputs": [
    {
     "name": "stdout",
     "output_type": "stream",
     "text": [
      "After ReLu: tensor([[0.5468, 0.0000, 0.0274, 0.2584, 0.0000, 0.0000, 0.1755, 0.0000, 0.0000,\n",
      "         0.0000, 0.0825, 0.6282, 0.5345, 0.0000, 0.6252, 0.0000, 0.6365, 0.5201,\n",
      "         0.0000, 0.1213],\n",
      "        [0.4532, 0.2686, 0.0000, 0.5251, 0.2064, 0.2917, 0.4025, 0.0355, 0.0000,\n",
      "         0.0000, 0.0282, 0.4535, 0.3486, 0.3498, 0.5596, 0.1356, 0.5259, 0.5987,\n",
      "         0.2027, 0.0000],\n",
      "        [0.0500, 0.0000, 0.0000, 0.0787, 0.0162, 0.3636, 0.2403, 0.0000, 0.0000,\n",
      "         0.0000, 0.0479, 0.2528, 0.5486, 0.0649, 0.7061, 0.0588, 0.4527, 0.4405,\n",
      "         0.5737, 0.0000]], grad_fn=<ReluBackward0>)\n"
     ]
    }
   ],
   "source": [
    "print(f\"After ReLu: {hidden1}\")"
   ]
  },
  {
   "cell_type": "code",
   "execution_count": 34,
   "id": "b2e23cfc-3e06-45d3-ae35-5bb781e3dca4",
   "metadata": {},
   "outputs": [],
   "source": [
    "seq_modules = nn.Sequential(\n",
    "    flatten,\n",
    "    layer1,\n",
    "    nn.ReLU(),\n",
    "    nn.Linear(20,10)\n",
    ")\n",
    "\n",
    "input_image = torch.rand(3,28,28)\n",
    "logits = seq_modules(input_image)"
   ]
  },
  {
   "cell_type": "code",
   "execution_count": 35,
   "id": "81ce144e-387b-4e28-a334-33a7d519bfd0",
   "metadata": {},
   "outputs": [],
   "source": [
    "softmax = nn.Softmax(dim=1)\n",
    "pred_probab = softmax(logits)"
   ]
  },
  {
   "cell_type": "code",
   "execution_count": 36,
   "id": "e108d3f0-4172-4097-9b93-becfd860574a",
   "metadata": {},
   "outputs": [
    {
     "name": "stdout",
     "output_type": "stream",
     "text": [
      "Model structure: NeuralNetwork(\n",
      "  (flatten): Flatten(start_dim=1, end_dim=-1)\n",
      "  (linear_relu_stack): Sequential(\n",
      "    (0): Linear(in_features=784, out_features=512, bias=True)\n",
      "    (1): ReLU()\n",
      "    (2): Linear(in_features=512, out_features=512, bias=True)\n",
      "    (3): ReLU()\n",
      "    (4): Linear(in_features=512, out_features=10, bias=True)\n",
      "  )\n",
      ")\n",
      "\n",
      "\n",
      "Layer: linear_relu_stack.0.weight | Size: torch.Size([512, 784]) | Values : tensor([[ 0.0164, -0.0099, -0.0259,  ..., -0.0203, -0.0339, -0.0179],\n",
      "        [ 0.0035, -0.0268, -0.0086,  ...,  0.0254, -0.0008, -0.0020]],\n",
      "       device='cuda:0', grad_fn=<SliceBackward0>) \n",
      "\n",
      "Layer: linear_relu_stack.0.bias | Size: torch.Size([512]) | Values : tensor([-0.0356,  0.0352], device='cuda:0', grad_fn=<SliceBackward0>) \n",
      "\n",
      "Layer: linear_relu_stack.2.weight | Size: torch.Size([512, 512]) | Values : tensor([[-0.0072, -0.0056,  0.0426,  ...,  0.0295, -0.0042, -0.0073],\n",
      "        [-0.0114, -0.0351, -0.0402,  ...,  0.0111, -0.0003,  0.0392]],\n",
      "       device='cuda:0', grad_fn=<SliceBackward0>) \n",
      "\n",
      "Layer: linear_relu_stack.2.bias | Size: torch.Size([512]) | Values : tensor([-0.0125, -0.0281], device='cuda:0', grad_fn=<SliceBackward0>) \n",
      "\n",
      "Layer: linear_relu_stack.4.weight | Size: torch.Size([10, 512]) | Values : tensor([[-0.0194,  0.0181, -0.0099,  ..., -0.0015, -0.0385,  0.0382],\n",
      "        [-0.0181,  0.0004,  0.0434,  ...,  0.0095,  0.0321, -0.0006]],\n",
      "       device='cuda:0', grad_fn=<SliceBackward0>) \n",
      "\n",
      "Layer: linear_relu_stack.4.bias | Size: torch.Size([10]) | Values : tensor([0.0397, 0.0099], device='cuda:0', grad_fn=<SliceBackward0>) \n",
      "\n"
     ]
    }
   ],
   "source": [
    "print(f\"Model structure: {model}\\n\\n\")\n",
    "\n",
    "for name, param in model.named_parameters():\n",
    "    print(f\"Layer: {name} | Size: {param.size()} | Values : {param[:2]} \\n\")"
   ]
  },
  {
   "cell_type": "code",
   "execution_count": null,
   "id": "53418b10-2980-4ce4-89c0-448726964a15",
   "metadata": {},
   "outputs": [],
   "source": []
  }
 ],
 "metadata": {
  "kernelspec": {
   "display_name": "Python 3 (ipykernel)",
   "language": "python",
   "name": "python3"
  },
  "language_info": {
   "codemirror_mode": {
    "name": "ipython",
    "version": 3
   },
   "file_extension": ".py",
   "mimetype": "text/x-python",
   "name": "python",
   "nbconvert_exporter": "python",
   "pygments_lexer": "ipython3",
   "version": "3.12.4"
  }
 },
 "nbformat": 4,
 "nbformat_minor": 5
}
