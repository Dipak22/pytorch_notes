{
 "cells": [
  {
   "cell_type": "code",
   "execution_count": 1,
   "id": "86f232ae-60ea-451f-8ed2-2ef404e72d28",
   "metadata": {},
   "outputs": [
    {
     "name": "stdout",
     "output_type": "stream",
     "text": [
      "2.4.0+cu124\n"
     ]
    }
   ],
   "source": [
    "import torch\n",
    "import pandas as pd\n",
    "import numpy as np\n",
    "import matplotlib.pyplot as plt\n",
    "print(torch.__version__)"
   ]
  },
  {
   "cell_type": "code",
   "execution_count": 3,
   "id": "03b71ac3-38d8-4b4d-baa4-0188f80495c9",
   "metadata": {},
   "outputs": [
    {
     "data": {
      "text/plain": [
       "tensor(7)"
      ]
     },
     "execution_count": 3,
     "metadata": {},
     "output_type": "execute_result"
    }
   ],
   "source": [
    "#scalar\n",
    "scalar = torch.tensor(7)\n",
    "scalar"
   ]
  },
  {
   "cell_type": "code",
   "execution_count": 6,
   "id": "dbe59f18-337a-4fb5-b275-0eb74a5f5f43",
   "metadata": {},
   "outputs": [
    {
     "data": {
      "text/plain": [
       "0"
      ]
     },
     "execution_count": 6,
     "metadata": {},
     "output_type": "execute_result"
    }
   ],
   "source": [
    "scalar.ndim"
   ]
  },
  {
   "cell_type": "code",
   "execution_count": 8,
   "id": "ee1ee86e-da67-4bc3-a6a8-b0633b109250",
   "metadata": {},
   "outputs": [
    {
     "data": {
      "text/plain": [
       "7"
      ]
     },
     "execution_count": 8,
     "metadata": {},
     "output_type": "execute_result"
    }
   ],
   "source": [
    "scalar.item()"
   ]
  },
  {
   "cell_type": "code",
   "execution_count": 14,
   "id": "8e71dd68-f3cb-4b3b-b917-85ddb2b4712f",
   "metadata": {},
   "outputs": [],
   "source": [
    "#vector\n",
    "vector = torch.tensor([7,7])"
   ]
  },
  {
   "cell_type": "code",
   "execution_count": 15,
   "id": "1baec5eb-9cbe-4009-91e2-fe780d754d0d",
   "metadata": {},
   "outputs": [
    {
     "data": {
      "text/plain": [
       "1"
      ]
     },
     "execution_count": 15,
     "metadata": {},
     "output_type": "execute_result"
    }
   ],
   "source": [
    "vector.ndim"
   ]
  },
  {
   "cell_type": "code",
   "execution_count": 16,
   "id": "1d6683a9-21e4-4848-95eb-ca7e2a5dd179",
   "metadata": {},
   "outputs": [
    {
     "data": {
      "text/plain": [
       "tensor([[1, 2],\n",
       "        [3, 4]])"
      ]
     },
     "execution_count": 16,
     "metadata": {},
     "output_type": "execute_result"
    }
   ],
   "source": [
    "#MAtrix\n",
    "M = torch.tensor([[1,2],\n",
    "                  [3,4]])\n",
    "M"
   ]
  },
  {
   "cell_type": "code",
   "execution_count": 17,
   "id": "ad7100de-3d76-4b2f-9ce7-4a145709eb8c",
   "metadata": {},
   "outputs": [
    {
     "data": {
      "text/plain": [
       "2"
      ]
     },
     "execution_count": 17,
     "metadata": {},
     "output_type": "execute_result"
    }
   ],
   "source": [
    "M.ndim"
   ]
  },
  {
   "cell_type": "code",
   "execution_count": 18,
   "id": "27f6f185-d499-4099-b4fe-c4ba8c6df555",
   "metadata": {},
   "outputs": [
    {
     "data": {
      "text/plain": [
       "torch.Size([2, 2])"
      ]
     },
     "execution_count": 18,
     "metadata": {},
     "output_type": "execute_result"
    }
   ],
   "source": [
    "M.shape"
   ]
  },
  {
   "cell_type": "code",
   "execution_count": 22,
   "id": "7c8aabcd-efba-4ca9-9805-a60a32e0bd5a",
   "metadata": {},
   "outputs": [
    {
     "data": {
      "text/plain": [
       "tensor([[[[ 1,  2,  3],\n",
       "          [ 3,  6,  7],\n",
       "          [ 7, 11,  9]]]])"
      ]
     },
     "execution_count": 22,
     "metadata": {},
     "output_type": "execute_result"
    }
   ],
   "source": [
    "#Tensor\n",
    "T = torch.tensor([[[[1,2,3],\n",
    "                   [3,6,7],\n",
    "                   [7,11,9]]]])\n",
    "T"
   ]
  },
  {
   "cell_type": "code",
   "execution_count": 23,
   "id": "4c0d77e4-916c-4ab4-b1c2-df04aba6c9cc",
   "metadata": {},
   "outputs": [
    {
     "data": {
      "text/plain": [
       "4"
      ]
     },
     "execution_count": 23,
     "metadata": {},
     "output_type": "execute_result"
    }
   ],
   "source": [
    "T.ndim"
   ]
  },
  {
   "cell_type": "code",
   "execution_count": 24,
   "id": "9aa25846-758a-4133-a628-e875db98aa50",
   "metadata": {},
   "outputs": [
    {
     "data": {
      "text/plain": [
       "torch.Size([1, 1, 3, 3])"
      ]
     },
     "execution_count": 24,
     "metadata": {},
     "output_type": "execute_result"
    }
   ],
   "source": [
    "T.shape"
   ]
  },
  {
   "cell_type": "code",
   "execution_count": 35,
   "id": "a0a1897b-5fcd-4811-9623-8a606c8b8942",
   "metadata": {},
   "outputs": [
    {
     "data": {
      "text/plain": [
       "tensor([[0.2090, 0.1312, 0.7102, 0.1624],\n",
       "        [0.6966, 0.5626, 0.0784, 0.5164],\n",
       "        [0.0525, 0.1583, 0.7783, 0.9154]])"
      ]
     },
     "execution_count": 35,
     "metadata": {},
     "output_type": "execute_result"
    }
   ],
   "source": [
    "#Create a random tensor of shape (3,4)\n",
    "random_tensor = torch.rand(3,4)\n",
    "random_tensor"
   ]
  },
  {
   "cell_type": "code",
   "execution_count": 29,
   "id": "54abef95-839d-4f8e-af4d-d70a417d6f9f",
   "metadata": {},
   "outputs": [
    {
     "data": {
      "text/plain": [
       "3"
      ]
     },
     "execution_count": 29,
     "metadata": {},
     "output_type": "execute_result"
    }
   ],
   "source": [
    "random_image_tensor = torch.rand(size=(3,224,224))\n",
    "random_image_tensor.ndim"
   ]
  },
  {
   "cell_type": "code",
   "execution_count": 30,
   "id": "3ac736dc-f18f-48ca-89c2-3682e3da8189",
   "metadata": {},
   "outputs": [
    {
     "data": {
      "text/plain": [
       "torch.Size([3, 224, 224])"
      ]
     },
     "execution_count": 30,
     "metadata": {},
     "output_type": "execute_result"
    }
   ],
   "source": [
    "random_image_tensor.shape"
   ]
  },
  {
   "cell_type": "code",
   "execution_count": 36,
   "id": "8b532fb2-da5a-4feb-989b-60f67e0374eb",
   "metadata": {},
   "outputs": [
    {
     "data": {
      "text/plain": [
       "tensor([[0., 0., 0., 0.],\n",
       "        [0., 0., 0., 0.],\n",
       "        [0., 0., 0., 0.]])"
      ]
     },
     "execution_count": 36,
     "metadata": {},
     "output_type": "execute_result"
    }
   ],
   "source": [
    "zeros = torch.zeros(3,4)\n",
    "zeros"
   ]
  },
  {
   "cell_type": "code",
   "execution_count": 37,
   "id": "09609a63-0881-4f4e-b1c4-cb073a91dce2",
   "metadata": {},
   "outputs": [
    {
     "data": {
      "text/plain": [
       "tensor([[1., 1., 1., 1.],\n",
       "        [1., 1., 1., 1.],\n",
       "        [1., 1., 1., 1.]])"
      ]
     },
     "execution_count": 37,
     "metadata": {},
     "output_type": "execute_result"
    }
   ],
   "source": [
    "ones = torch.ones(size=(3,4))\n",
    "ones"
   ]
  },
  {
   "cell_type": "code",
   "execution_count": 38,
   "id": "25013f41-dbfd-44e2-af10-5c717d920d1e",
   "metadata": {},
   "outputs": [
    {
     "data": {
      "text/plain": [
       "torch.float32"
      ]
     },
     "execution_count": 38,
     "metadata": {},
     "output_type": "execute_result"
    }
   ],
   "source": [
    "ones.dtype"
   ]
  },
  {
   "cell_type": "code",
   "execution_count": 42,
   "id": "80827cc3-e688-426e-8769-fda2463daf70",
   "metadata": {},
   "outputs": [],
   "source": [
    "one_to_ten =torch.arange(start =1, end=11, step = 1)"
   ]
  },
  {
   "cell_type": "code",
   "execution_count": 44,
   "id": "a0684fbc-32a1-4b0a-a2d1-29e7a9b19a73",
   "metadata": {},
   "outputs": [
    {
     "data": {
      "text/plain": [
       "torch.Size([10])"
      ]
     },
     "execution_count": 44,
     "metadata": {},
     "output_type": "execute_result"
    }
   ],
   "source": [
    "#creating tensors like\n",
    "one_to_ten.shape"
   ]
  },
  {
   "cell_type": "code",
   "execution_count": 45,
   "id": "e5ee4897-3b78-44d1-839a-48de06af2d57",
   "metadata": {},
   "outputs": [
    {
     "data": {
      "text/plain": [
       "tensor([0, 0, 0, 0, 0, 0, 0, 0, 0, 0])"
      ]
     },
     "execution_count": 45,
     "metadata": {},
     "output_type": "execute_result"
    }
   ],
   "source": [
    "ten_zeros = torch.zeros_like(input= one_to_ten)\n",
    "ten_zeros"
   ]
  },
  {
   "cell_type": "code",
   "execution_count": 56,
   "id": "25aecf4c-faa1-47e7-a84a-33a13a9ab3c3",
   "metadata": {},
   "outputs": [
    {
     "data": {
      "text/plain": [
       "torch.float32"
      ]
     },
     "execution_count": 56,
     "metadata": {},
     "output_type": "execute_result"
    }
   ],
   "source": [
    "#float32 tensor\n",
    "float_32_tensor = torch.tensor([2.0,4,6], dtype = None,\n",
    "                              device= None,\n",
    "                              requires_grad = False)\n",
    "float_32_tensor.dtype"
   ]
  },
  {
   "cell_type": "code",
   "execution_count": 62,
   "id": "b860a74b-d6fe-40e7-9bb6-3b32c3fbd644",
   "metadata": {},
   "outputs": [
    {
     "data": {
      "text/plain": [
       "tensor([2., 4., 6.], dtype=torch.float16)"
      ]
     },
     "execution_count": 62,
     "metadata": {},
     "output_type": "execute_result"
    }
   ],
   "source": [
    "float16_tensor = float_32_tensor.type(torch.float16)\n",
    "float16_tensor"
   ]
  },
  {
   "cell_type": "code",
   "execution_count": 63,
   "id": "0dda7787-88ee-4cc1-ae12-38cd887817df",
   "metadata": {},
   "outputs": [
    {
     "data": {
      "text/plain": [
       "tensor([ 4., 16., 36.])"
      ]
     },
     "execution_count": 63,
     "metadata": {},
     "output_type": "execute_result"
    }
   ],
   "source": [
    "float16_tensor * float_32_tensor"
   ]
  },
  {
   "cell_type": "code",
   "execution_count": 64,
   "id": "177858ba-8855-4353-ab85-f008b5f6c270",
   "metadata": {},
   "outputs": [
    {
     "data": {
      "text/plain": [
       "device(type='cpu')"
      ]
     },
     "execution_count": 64,
     "metadata": {},
     "output_type": "execute_result"
    }
   ],
   "source": [
    "float16_tensor.device"
   ]
  },
  {
   "cell_type": "code",
   "execution_count": 65,
   "id": "6a279e77-196a-4187-a0b1-f2888bafd850",
   "metadata": {},
   "outputs": [],
   "source": [
    "#Tensor operations\n",
    "#Addition, subtraction, Multiplication,Division, \n",
    "# Matrix multiplication\n"
   ]
  },
  {
   "cell_type": "code",
   "execution_count": 68,
   "id": "6cdb2f9f-7306-47d4-833b-95db9f018e41",
   "metadata": {},
   "outputs": [
    {
     "data": {
      "text/plain": [
       "tensor([11, 12, 13])"
      ]
     },
     "execution_count": 68,
     "metadata": {},
     "output_type": "execute_result"
    }
   ],
   "source": [
    "# create a tensor and add a scalar\n",
    "tensor = torch.tensor([1,2,3])\n",
    "tensor + 10\n"
   ]
  },
  {
   "cell_type": "code",
   "execution_count": 69,
   "id": "4d809f97-f2ed-40c3-947c-008880ee12ff",
   "metadata": {},
   "outputs": [
    {
     "data": {
      "text/plain": [
       "tensor([10, 20, 30])"
      ]
     },
     "execution_count": 69,
     "metadata": {},
     "output_type": "execute_result"
    }
   ],
   "source": [
    "tensor * 10"
   ]
  },
  {
   "cell_type": "code",
   "execution_count": 70,
   "id": "85e5d01c-9071-4aa1-bb5b-282253cdcbd6",
   "metadata": {},
   "outputs": [
    {
     "data": {
      "text/plain": [
       "tensor([0.1000, 0.2000, 0.3000])"
      ]
     },
     "execution_count": 70,
     "metadata": {},
     "output_type": "execute_result"
    }
   ],
   "source": [
    "tensor/10"
   ]
  },
  {
   "cell_type": "code",
   "execution_count": 72,
   "id": "0214a0bb-06e3-428a-85cc-806d4b103fec",
   "metadata": {},
   "outputs": [
    {
     "data": {
      "text/plain": [
       "tensor([10, 20, 30])"
      ]
     },
     "execution_count": 72,
     "metadata": {},
     "output_type": "execute_result"
    }
   ],
   "source": [
    "torch.mul(tensor,10)"
   ]
  },
  {
   "cell_type": "code",
   "execution_count": 83,
   "id": "65ff14a1-90e4-4193-8aa2-be4f37232c13",
   "metadata": {},
   "outputs": [
    {
     "data": {
      "text/plain": [
       "tensor([0.1000, 0.2000, 0.3000])"
      ]
     },
     "execution_count": 83,
     "metadata": {},
     "output_type": "execute_result"
    }
   ],
   "source": [
    "tensor.div(10)"
   ]
  },
  {
   "cell_type": "code",
   "execution_count": 84,
   "id": "fe688d6a-8272-4ce8-9b8b-7b35fe0410d9",
   "metadata": {},
   "outputs": [
    {
     "data": {
      "text/plain": [
       "tensor([1, 2, 3])"
      ]
     },
     "execution_count": 84,
     "metadata": {},
     "output_type": "execute_result"
    }
   ],
   "source": [
    "tensor"
   ]
  },
  {
   "cell_type": "code",
   "execution_count": 85,
   "id": "9bd9f782-fcc1-484d-86c0-31dc72800e56",
   "metadata": {},
   "outputs": [
    {
     "data": {
      "text/plain": [
       "tensor(14)"
      ]
     },
     "execution_count": 85,
     "metadata": {},
     "output_type": "execute_result"
    }
   ],
   "source": [
    "#Matrix Multiplication\n",
    "tensor.matmul(tensor)"
   ]
  },
  {
   "cell_type": "code",
   "execution_count": 87,
   "id": "07d8d29c-2277-45e9-b293-3755f9dcd3fc",
   "metadata": {},
   "outputs": [
    {
     "data": {
      "text/plain": [
       "tensor(14)"
      ]
     },
     "execution_count": 87,
     "metadata": {},
     "output_type": "execute_result"
    }
   ],
   "source": [
    "torch.matmul(tensor,tensor)"
   ]
  },
  {
   "cell_type": "code",
   "execution_count": 90,
   "id": "57aa3021-d967-491d-a8fe-4f7af6b25dd4",
   "metadata": {},
   "outputs": [
    {
     "data": {
      "text/plain": [
       "tensor([[ 27,  30,  33],\n",
       "        [ 61,  68,  75],\n",
       "        [ 95, 106, 117]])"
      ]
     },
     "execution_count": 90,
     "metadata": {},
     "output_type": "execute_result"
    }
   ],
   "source": [
    "tensor_A = torch.tensor([[1,2],\n",
    "                         [3,4],\n",
    "                         [5,6]])\n",
    "tensor_B = torch.tensor([[7,10],\n",
    "                         [8,11],\n",
    "                         [9,12]])\n",
    "\n",
    "torch.mm(tensor_A,tensor_B.T)"
   ]
  },
  {
   "cell_type": "code",
   "execution_count": 91,
   "id": "6d6aae16-b72a-47d7-ae47-633f61ab2514",
   "metadata": {},
   "outputs": [],
   "source": [
    "# Aggregation operations on a tensor\n"
   ]
  },
  {
   "cell_type": "code",
   "execution_count": 103,
   "id": "6a16f068-4aec-4d41-a5bf-bbf55aaad175",
   "metadata": {},
   "outputs": [
    {
     "data": {
      "text/plain": [
       "(tensor([ 0, 10, 20, 30, 40, 50, 60, 70, 80, 90]), torch.int64)"
      ]
     },
     "execution_count": 103,
     "metadata": {},
     "output_type": "execute_result"
    }
   ],
   "source": [
    "x = torch.arange(0,100,10)\n",
    "x, x.dtype"
   ]
  },
  {
   "cell_type": "code",
   "execution_count": 101,
   "id": "94e326dd-4048-4246-909b-1465b5e2e4c9",
   "metadata": {},
   "outputs": [
    {
     "data": {
      "text/plain": [
       "(tensor(90), tensor(0), tensor(450))"
      ]
     },
     "execution_count": 101,
     "metadata": {},
     "output_type": "execute_result"
    }
   ],
   "source": [
    "x.max(), x.min(), x.sum()"
   ]
  },
  {
   "cell_type": "code",
   "execution_count": 106,
   "id": "4c4f9d2e-9263-4f16-bed6-eefe56c52634",
   "metadata": {},
   "outputs": [
    {
     "data": {
      "text/plain": [
       "(tensor(45.), tensor(45.))"
      ]
     },
     "execution_count": 106,
     "metadata": {},
     "output_type": "execute_result"
    }
   ],
   "source": [
    "#torch.mean() doesn't work with long, needs float32 as dtype\n",
    "torch.mean(x.type(torch.float32)), x.type(torch.float32).mean()"
   ]
  },
  {
   "cell_type": "code",
   "execution_count": 107,
   "id": "eb6a1458-a16f-4c5d-b529-b59ff7e74054",
   "metadata": {},
   "outputs": [
    {
     "data": {
      "text/plain": [
       "tensor([ 0, 10, 20, 30, 40, 50, 60, 70, 80, 90])"
      ]
     },
     "execution_count": 107,
     "metadata": {},
     "output_type": "execute_result"
    }
   ],
   "source": [
    "x"
   ]
  },
  {
   "cell_type": "code",
   "execution_count": 110,
   "id": "8444c6d6-38dc-48e1-acf5-25e577cf71f8",
   "metadata": {},
   "outputs": [
    {
     "data": {
      "text/plain": [
       "(tensor(9), 0)"
      ]
     },
     "execution_count": 110,
     "metadata": {},
     "output_type": "execute_result"
    }
   ],
   "source": [
    "x.argmax(),x.argmin().item()"
   ]
  },
  {
   "cell_type": "code",
   "execution_count": 111,
   "id": "727fb95e-d95c-4ffa-8fa0-c57b6086abd0",
   "metadata": {},
   "outputs": [],
   "source": [
    "# Reshaping, stacking, squeezing, unsqueezing tensors\n",
    "# View, return a view on input tensor of certain shape, but keep the same memory as the original tensor\n",
    "# stacking - combine multiple tensors on top of each other (vstack) or side y side (hstack)\n",
    "# squeeze - remove all '1' dimensions from a tensor\n",
    "# unsqueeze add a '1' dimesion to a target tensor\n",
    "# Permute - return a view of the input tensor in a certain shape"
   ]
  },
  {
   "cell_type": "code",
   "execution_count": 121,
   "id": "c35ce24b-6a39-4e98-b7fd-c6fad76fe623",
   "metadata": {},
   "outputs": [
    {
     "data": {
      "text/plain": [
       "(tensor([ 1.,  2.,  3.,  4.,  5.,  6.,  7.,  8.,  9., 10., 11., 12.]),\n",
       " torch.Size([12]))"
      ]
     },
     "execution_count": 121,
     "metadata": {},
     "output_type": "execute_result"
    }
   ],
   "source": [
    "x  = torch.arange(1.,13.)\n",
    "x, x.shape"
   ]
  },
  {
   "cell_type": "code",
   "execution_count": 124,
   "id": "91493acd-0232-40cc-804e-2f8934206454",
   "metadata": {},
   "outputs": [
    {
     "data": {
      "text/plain": [
       "tensor([[[ 1.,  2.],\n",
       "         [ 3.,  4.]],\n",
       "\n",
       "        [[ 5.,  6.],\n",
       "         [ 7.,  8.]],\n",
       "\n",
       "        [[ 9., 10.],\n",
       "         [11., 12.]]])"
      ]
     },
     "execution_count": 124,
     "metadata": {},
     "output_type": "execute_result"
    }
   ],
   "source": [
    "# add an extra dimension\n",
    "x_reshaped = x.reshape(3,2,2)\n",
    "x_reshaped"
   ]
  },
  {
   "cell_type": "code",
   "execution_count": 126,
   "id": "5f0979c6-734e-4ebe-9c9b-f30bd4fcc810",
   "metadata": {},
   "outputs": [
    {
     "data": {
      "text/plain": [
       "(tensor([[ 1.,  2.,  3.,  4.,  5.,  6.,  7.,  8.,  9., 10., 11., 12.]]),\n",
       " torch.Size([1, 12]))"
      ]
     },
     "execution_count": 126,
     "metadata": {},
     "output_type": "execute_result"
    }
   ],
   "source": [
    "# change the view\n",
    "z = x.view(1,12)\n",
    "z,z.shape"
   ]
  },
  {
   "cell_type": "code",
   "execution_count": 127,
   "id": "b41dd808-ede8-4c2e-ae53-135172b1d0ef",
   "metadata": {},
   "outputs": [
    {
     "data": {
      "text/plain": [
       "(tensor([[ 5.,  2.,  3.,  4.,  5.,  6.,  7.,  8.,  9., 10., 11., 12.]]),\n",
       " tensor([ 5.,  2.,  3.,  4.,  5.,  6.,  7.,  8.,  9., 10., 11., 12.]))"
      ]
     },
     "execution_count": 127,
     "metadata": {},
     "output_type": "execute_result"
    }
   ],
   "source": [
    "z[:,0] =5\n",
    "z,x"
   ]
  },
  {
   "cell_type": "code",
   "execution_count": 130,
   "id": "2aacaf0a-d66c-45dd-92e3-d7f0c4cae719",
   "metadata": {},
   "outputs": [
    {
     "data": {
      "text/plain": [
       "tensor([[ 5.,  2.,  3.,  4.,  5.,  6.,  7.,  8.,  9., 10., 11., 12.],\n",
       "        [ 5.,  2.,  3.,  4.,  5.,  6.,  7.,  8.,  9., 10., 11., 12.],\n",
       "        [ 5.,  2.,  3.,  4.,  5.,  6.,  7.,  8.,  9., 10., 11., 12.],\n",
       "        [ 5.,  2.,  3.,  4.,  5.,  6.,  7.,  8.,  9., 10., 11., 12.]])"
      ]
     },
     "execution_count": 130,
     "metadata": {},
     "output_type": "execute_result"
    }
   ],
   "source": [
    "#stack tensors on top of each other\n",
    "x_stacked = torch.stack([x,x,x,x], dim =0)\n",
    "x_stacked"
   ]
  },
  {
   "cell_type": "code",
   "execution_count": null,
   "id": "3f166c50-ebdc-4696-a3d5-8d2a6a832842",
   "metadata": {},
   "outputs": [],
   "source": []
  }
 ],
 "metadata": {
  "kernelspec": {
   "display_name": "Python 3 (ipykernel)",
   "language": "python",
   "name": "python3"
  },
  "language_info": {
   "codemirror_mode": {
    "name": "ipython",
    "version": 3
   },
   "file_extension": ".py",
   "mimetype": "text/x-python",
   "name": "python",
   "nbconvert_exporter": "python",
   "pygments_lexer": "ipython3",
   "version": "3.12.4"
  }
 },
 "nbformat": 4,
 "nbformat_minor": 5
}
