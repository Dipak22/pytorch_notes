{
 "cells": [
  {
   "cell_type": "code",
   "execution_count": 10,
   "id": "ddf91185-9af2-4b16-a8a0-4e5247442e0a",
   "metadata": {},
   "outputs": [],
   "source": [
    "import torch\n",
    "import numpy as np\n",
    "from torch import nn\n",
    "import matplotlib.pyplot as plt"
   ]
  },
  {
   "cell_type": "code",
   "execution_count": 2,
   "id": "4b00f7fc-2148-43ec-8859-c7827f600359",
   "metadata": {},
   "outputs": [],
   "source": [
    "X = torch.arange(0,200,1)"
   ]
  },
  {
   "cell_type": "code",
   "execution_count": 16,
   "id": "95b1ba93-06e1-4517-84e5-887c29bd6a21",
   "metadata": {},
   "outputs": [],
   "source": [
    "y = 0.3*X+0.9"
   ]
  },
  {
   "cell_type": "code",
   "execution_count": 8,
   "id": "8d17a9f6-d2c5-4fda-afa6-0a7077428bd5",
   "metadata": {},
   "outputs": [],
   "source": [
    "train_index = int(0.8*len(X))\n",
    "X_train, y_train = X[:train_index], y[:train_index]\n",
    "X_test, y_test = X[train_index:],y[train_index:]"
   ]
  },
  {
   "cell_type": "code",
   "execution_count": 9,
   "id": "0388d131-df2e-44d9-83d6-fbc1bdbc14da",
   "metadata": {},
   "outputs": [
    {
     "data": {
      "text/plain": [
       "(torch.Size([160]), torch.Size([160]), torch.Size([40]), torch.Size([40]))"
      ]
     },
     "execution_count": 9,
     "metadata": {},
     "output_type": "execute_result"
    }
   ],
   "source": [
    "X_train.shape,y_train.shape,X_test.shape,y_test.shape"
   ]
  },
  {
   "cell_type": "code",
   "execution_count": 23,
   "id": "8837f229-ea6c-4c4b-a4e2-5ec89d655c20",
   "metadata": {},
   "outputs": [],
   "source": [
    "def plot_model(X_train = X_train,y_train = y_train, X_test= X_test, y_test = y_test,\n",
    "               predictions=None):\n",
    "    plt.scatter(X_train,y_train,c='b',s=4, label=\"Training Data\")\n",
    "    plt.scatter(X_test,y_test,c='g',s=4, label=\"Test Data\")\n",
    "    if predictions is not None:\n",
    "        plt.scatter(X_test,predictions,c='r',s=4, label=\"Predictions\")\n",
    "\n",
    "    plt.legend()\n"
   ]
  },
  {
   "cell_type": "code",
   "execution_count": 24,
   "id": "3bfe767d-9975-4ac1-80f0-82aba571309c",
   "metadata": {},
   "outputs": [
    {
     "data": {
      "image/png": "[encoded data removed]",
      "text/plain": [
       "<Figure size 640x480 with 1 Axes>"
      ]
     },
     "metadata": {},
     "output_type": "display_data"
    }
   ],
   "source": [
    "plot_model()"
   ]
  },
  {
   "cell_type": "code",
   "execution_count": 42,
   "id": "fc310705-60b6-44a6-a609-66848d6a5422",
   "metadata": {},
   "outputs": [],
   "source": [
    "class LinearRegressionModel(nn.Module):\n",
    "    def __init__(self):\n",
    "        super().__init__()\n",
    "        self.weight = nn.Parameter(torch.randn(1,dtype=torch.float,requires_grad = True))\n",
    "        self.bias = nn.Parameter(torch.randn(1,dtype=torch.float,requires_grad = True))\n",
    "    def forward(self,X):\n",
    "            return self.weight*X + self.bias"
   ]
  },
  {
   "cell_type": "code",
   "execution_count": 43,
   "id": "1b320a1f-8ef1-41eb-84cb-bbdf7af97c0c",
   "metadata": {},
   "outputs": [],
   "source": [
    "model_1 = LinearRegressionModel()"
   ]
  },
  {
   "cell_type": "code",
   "execution_count": 44,
   "id": "2e2450ea-2213-4517-922e-b38be445f210",
   "metadata": {},
   "outputs": [
    {
     "data": {
      "text/plain": [
       "OrderedDict([('weight', tensor([1.0953])), ('bias', tensor([1.6635]))])"
      ]
     },
     "execution_count": 44,
     "metadata": {},
     "output_type": "execute_result"
    }
   ],
   "source": [
    "model_1.state_dict()"
   ]
  },
  {
   "cell_type": "code",
   "execution_count": 45,
   "id": "533b0fea-30e9-455c-b66f-2d07a2b52d55",
   "metadata": {},
   "outputs": [],
   "source": [
    "loss_fn = nn.L1Loss()\n",
    "optimizer = torch.optim.SGD(model_1.parameters(),lr =0.001)"
   ]
  },
  {
   "cell_type": "code",
   "execution_count": 46,
   "id": "f5cd0f73-accd-45ea-b907-b4588f1c4f11",
   "metadata": {},
   "outputs": [
    {
     "name": "stdout",
     "output_type": "stream",
     "text": [
      "Epoch: 0 | Train loss : 63.9874382019043 | Test loss : 129.24314880371094\n",
      "Epoch: 20 | Train loss : 0.5507065057754517 | Test loss : 13.974848747253418\n",
      "Epoch: 40 | Train loss : 1.9566326141357422 | Test loss : 10.798919677734375\n",
      "Epoch: 60 | Train loss : 1.3539763689041138 | Test loss : 12.157824516296387\n",
      "Epoch: 80 | Train loss : 0.8557885885238647 | Test loss : 13.281015396118164\n",
      "Epoch: 100 | Train loss : 0.4163135588169098 | Test loss : 14.271728515625\n",
      "Epoch: 120 | Train loss : 1.6373414993286133 | Test loss : 11.51319694519043\n",
      "Epoch: 140 | Train loss : 1.099347472190857 | Test loss : 12.726198196411133\n",
      "Epoch: 160 | Train loss : 0.6509178280830383 | Test loss : 13.737116813659668\n",
      "Epoch: 180 | Train loss : 0.8554611206054688 | Test loss : 13.273824691772461\n",
      "Epoch: 200 | Train loss : 0.424940288066864 | Test loss : 14.244338989257812\n",
      "Epoch: 220 | Train loss : 1.1511328220367432 | Test loss : 12.603155136108398\n",
      "Epoch: 240 | Train loss : 0.7027032971382141 | Test loss : 13.61407470703125\n",
      "Epoch: 260 | Train loss : 1.9617007970809937 | Test loss : 10.770078659057617\n",
      "Epoch: 280 | Train loss : 1.3699867725372314 | Test loss : 12.10429573059082\n"
     ]
    }
   ],
   "source": [
    "epochs = 300\n",
    "\n",
    "for epoch in range(epochs):\n",
    "    #Forward pass\n",
    "    model_1.train()\n",
    "    y_pred = model_1(X_train)\n",
    "\n",
    "    #calculate loss\n",
    "    loss = loss_fn(y_pred,y_train)\n",
    "\n",
    "    #Gradients zero\n",
    "    optimizer.zero_grad()\n",
    "    #loss backward pass\n",
    "    loss.backward()\n",
    "    #optimizer step\n",
    "    optimizer.step()\n",
    "    model_1.eval()\n",
    "    with torch.inference_mode():\n",
    "        y_test_pred = model_1(X_test)\n",
    "        test_loss = loss_fn(y_test_pred,y_test)\n",
    "    if epoch%20==0:\n",
    "        print(f\"Epoch: {epoch} | Train loss : {loss} | Test loss : {test_loss}\")"
   ]
  },
  {
   "cell_type": "code",
   "execution_count": 47,
   "id": "c7f984a2-0603-477c-be57-389e863b429e",
   "metadata": {},
   "outputs": [
    {
     "data": {
      "image/png": "[encoded data removed]",
      "text/plain": [
       "<Figure size 640x480 with 1 Axes>"
      ]
     },
     "metadata": {},
     "output_type": "display_data"
    }
   ],
   "source": [
    "with torch.inference_mode():\n",
    "        y_test_pred = model_1(X_test)\n",
    "\n",
    "plot_model(predictions=y_test_pred)"
   ]
  },
  {
   "cell_type": "code",
   "execution_count": 49,
   "id": "afec4fa5-d506-4f50-a248-252873cc951c",
   "metadata": {},
   "outputs": [],
   "source": [
    "from pathlib import Path\n",
    "\n",
    "MODEL_PATH = Path(\"models\")\n",
    "Path.mkdir(MODEL_PATH, parents=True,exist_ok=True)"
   ]
  },
  {
   "cell_type": "code",
   "execution_count": 50,
   "id": "9359b905-1399-4f90-acab-c428299908d5",
   "metadata": {},
   "outputs": [
    {
     "data": {
      "text/plain": [
       "WindowsPath('models/model_exercise_1.pth')"
      ]
     },
     "execution_count": 50,
     "metadata": {},
     "output_type": "execute_result"
    }
   ],
   "source": [
    "MODEL_NAME = \"model_exercise_1.pth\"\n",
    "MODEL_SAVE_PATH = MODEL_PATH/MODEL_NAME\n",
    "MODEL_SAVE_PATH"
   ]
  },
  {
   "cell_type": "code",
   "execution_count": 51,
   "id": "bcf9efaf-112f-45e9-9e55-f878d0cd8288",
   "metadata": {},
   "outputs": [],
   "source": [
    "torch.save(model_1.state_dict(),MODEL_SAVE_PATH)"
   ]
  },
  {
   "cell_type": "code",
   "execution_count": 52,
   "id": "ba4e3755-2b6b-4c0b-bc3f-0a7ee1a22715",
   "metadata": {},
   "outputs": [
    {
     "data": {
      "text/plain": [
       "OrderedDict([('weight', tensor([0.3020])), ('bias', tensor([1.6351]))])"
      ]
     },
     "execution_count": 52,
     "metadata": {},
     "output_type": "execute_result"
    }
   ],
   "source": [
    "model_1.state_dict()"
   ]
  },
  {
   "cell_type": "code",
   "execution_count": 53,
   "id": "3658d44e-d080-499d-9ec4-aba061888211",
   "metadata": {},
   "outputs": [
    {
     "name": "stderr",
     "output_type": "stream",
     "text": [
      "C:\\Users\\dasdi\\AppData\\Local\\Temp\\ipykernel_31608\\4175292719.py:2: FutureWarning: You are using `torch.load` with `weights_only=False` (the current default value), which uses the default pickle module implicitly. It is possible to construct malicious pickle data which will execute arbitrary code during unpickling (See https://github.com/pytorch/pytorch/blob/main/SECURITY.md#untrusted-models for more details). In a future release, the default value for `weights_only` will be flipped to `True`. This limits the functions that could be executed during unpickling. Arbitrary objects will no longer be allowed to be loaded via this mode unless they are explicitly allowlisted by the user via `torch.serialization.add_safe_globals`. We recommend you start setting `weights_only=True` for any use case where you don't have full control of the loaded file. Please open an issue on GitHub for any issues related to this experimental feature.\n",
      "  model_2.load_state_dict(torch.load(MODEL_SAVE_PATH))\n"
     ]
    },
    {
     "data": {
      "text/plain": [
       "<All keys matched successfully>"
      ]
     },
     "execution_count": 53,
     "metadata": {},
     "output_type": "execute_result"
    }
   ],
   "source": [
    "model_2 = LinearRegressionModel()\n",
    "model_2.load_state_dict(torch.load(MODEL_SAVE_PATH))"
   ]
  },
  {
   "cell_type": "code",
   "execution_count": 54,
   "id": "f6ba42ee-cae0-4108-8027-631e35c89ab6",
   "metadata": {},
   "outputs": [
    {
     "data": {
      "text/plain": [
       "OrderedDict([('weight', tensor([0.3020])), ('bias', tensor([1.6351]))])"
      ]
     },
     "execution_count": 54,
     "metadata": {},
     "output_type": "execute_result"
    }
   ],
   "source": [
    "model_2.state_dict()"
   ]
  },
  {
   "cell_type": "code",
   "execution_count": null,
   "id": "3c17f742-338f-4aec-bf82-14a9f3e918c5",
   "metadata": {},
   "outputs": [],
   "source": []
  }
 ],
 "metadata": {
  "kernelspec": {
   "display_name": "Python 3 (ipykernel)",
   "language": "python",
   "name": "python3"
  },
  "language_info": {
   "codemirror_mode": {
    "name": "ipython",
    "version": 3
   },
   "file_extension": ".py",
   "mimetype": "text/x-python",
   "name": "python",
   "nbconvert_exporter": "python",
   "pygments_lexer": "ipython3",
   "version": "3.12.4"
  }
 },
 "nbformat": 4,
 "nbformat_minor": 5
}
